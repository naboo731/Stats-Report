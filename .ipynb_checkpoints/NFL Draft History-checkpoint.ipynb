{
 "cells": [
  {
   "cell_type": "code",
   "execution_count": 6,
   "id": "a634d0d7",
   "metadata": {},
   "outputs": [
    {
     "name": "stdout",
     "output_type": "stream",
     "text": [
      "Collecting openpyxl\n",
      "  Downloading openpyxl-3.0.9-py2.py3-none-any.whl (242 kB)\n",
      "\u001b[K     |████████████████████████████████| 242 kB 5.8 MB/s eta 0:00:01\n",
      "\u001b[?25hCollecting et-xmlfile\n",
      "  Downloading et_xmlfile-1.1.0-py3-none-any.whl (4.7 kB)\n",
      "Installing collected packages: et-xmlfile, openpyxl\n",
      "Successfully installed et-xmlfile-1.1.0 openpyxl-3.0.9\n",
      "\u001b[33mWARNING: You are using pip version 21.2.4; however, version 21.3.1 is available.\n",
      "You should consider upgrading via the '/Users/nicki/Desktop/Specializations/Week 3/Stats Report/my_env/bin/python3 -m pip install --upgrade pip' command.\u001b[0m\n"
     ]
    }
   ],
   "source": [
    "!pip install openpyxl"
   ]
  },
  {
   "cell_type": "code",
   "execution_count": 7,
   "id": "b52fe3d2",
   "metadata": {},
   "outputs": [
    {
     "data": {
      "text/html": [
       "        <script type=\"text/javascript\">\n",
       "        window.PlotlyConfig = {MathJaxConfig: 'local'};\n",
       "        if (window.MathJax) {MathJax.Hub.Config({SVG: {font: \"STIX-Web\"}});}\n",
       "        if (typeof require !== 'undefined') {\n",
       "        require.undef(\"plotly\");\n",
       "        requirejs.config({\n",
       "            paths: {\n",
       "                'plotly': ['https://cdn.plot.ly/plotly-2.8.3.min']\n",
       "            }\n",
       "        });\n",
       "        require(['plotly'], function(Plotly) {\n",
       "            window._Plotly = Plotly;\n",
       "        });\n",
       "        }\n",
       "        </script>\n",
       "        "
      ]
     },
     "metadata": {},
     "output_type": "display_data"
    }
   ],
   "source": [
    "import pandas as pd\n",
    "import numpy as np\n",
    "import plotly.graph_objects as go\n",
    "import plotly.express as px\n",
    "import matplotlib.pyplot as plt\n",
    "%matplotlib inline\n",
    "import plotly.offline as offline\n",
    "from matplotlib.pyplot import figure\n",
    "\n",
    "offline.init_notebook_mode(connected=True)"
   ]
  },
  {
   "cell_type": "code",
   "execution_count": 9,
   "id": "e248e236",
   "metadata": {},
   "outputs": [
    {
     "data": {
      "text/html": [
       "<div>\n",
       "<style scoped>\n",
       "    .dataframe tbody tr th:only-of-type {\n",
       "        vertical-align: middle;\n",
       "    }\n",
       "\n",
       "    .dataframe tbody tr th {\n",
       "        vertical-align: top;\n",
       "    }\n",
       "\n",
       "    .dataframe thead th {\n",
       "        text-align: right;\n",
       "    }\n",
       "</style>\n",
       "<table border=\"1\" class=\"dataframe\">\n",
       "  <thead>\n",
       "    <tr style=\"text-align: right;\">\n",
       "      <th></th>\n",
       "      <th>Unnamed: 0</th>\n",
       "      <th>Rnd</th>\n",
       "      <th>Pick</th>\n",
       "      <th>Tm</th>\n",
       "      <th>Player</th>\n",
       "      <th>Pos</th>\n",
       "      <th>Age</th>\n",
       "      <th>To</th>\n",
       "      <th>AP1</th>\n",
       "      <th>PB</th>\n",
       "      <th>...</th>\n",
       "      <th>Yds.1</th>\n",
       "      <th>TD.1</th>\n",
       "      <th>Rec</th>\n",
       "      <th>Yds.2</th>\n",
       "      <th>TD.2</th>\n",
       "      <th>Tkl</th>\n",
       "      <th>Int.1</th>\n",
       "      <th>Sk</th>\n",
       "      <th>College/Univ</th>\n",
       "      <th>Year</th>\n",
       "    </tr>\n",
       "  </thead>\n",
       "  <tbody>\n",
       "    <tr>\n",
       "      <th>0</th>\n",
       "      <td>0</td>\n",
       "      <td>1</td>\n",
       "      <td>1</td>\n",
       "      <td>PIT</td>\n",
       "      <td>Terry Bradshaw</td>\n",
       "      <td>QB</td>\n",
       "      <td>22.0</td>\n",
       "      <td>1983.0</td>\n",
       "      <td>1</td>\n",
       "      <td>3</td>\n",
       "      <td>...</td>\n",
       "      <td>2257.0</td>\n",
       "      <td>32.0</td>\n",
       "      <td>0.0</td>\n",
       "      <td>1.0</td>\n",
       "      <td>0.0</td>\n",
       "      <td>NaN</td>\n",
       "      <td>NaN</td>\n",
       "      <td>NaN</td>\n",
       "      <td>Louisiana Tech</td>\n",
       "      <td>1970</td>\n",
       "    </tr>\n",
       "    <tr>\n",
       "      <th>1</th>\n",
       "      <td>1</td>\n",
       "      <td>1</td>\n",
       "      <td>2</td>\n",
       "      <td>GNB</td>\n",
       "      <td>Mike McCoy</td>\n",
       "      <td>DT</td>\n",
       "      <td>22.0</td>\n",
       "      <td>1980.0</td>\n",
       "      <td>0</td>\n",
       "      <td>0</td>\n",
       "      <td>...</td>\n",
       "      <td>NaN</td>\n",
       "      <td>NaN</td>\n",
       "      <td>NaN</td>\n",
       "      <td>NaN</td>\n",
       "      <td>NaN</td>\n",
       "      <td>NaN</td>\n",
       "      <td>1.0</td>\n",
       "      <td>NaN</td>\n",
       "      <td>Notre Dame</td>\n",
       "      <td>1970</td>\n",
       "    </tr>\n",
       "    <tr>\n",
       "      <th>2</th>\n",
       "      <td>2</td>\n",
       "      <td>1</td>\n",
       "      <td>3</td>\n",
       "      <td>CLE</td>\n",
       "      <td>Mike Phipps</td>\n",
       "      <td>QB</td>\n",
       "      <td>22.0</td>\n",
       "      <td>1981.0</td>\n",
       "      <td>0</td>\n",
       "      <td>0</td>\n",
       "      <td>...</td>\n",
       "      <td>1278.0</td>\n",
       "      <td>13.0</td>\n",
       "      <td>NaN</td>\n",
       "      <td>NaN</td>\n",
       "      <td>NaN</td>\n",
       "      <td>NaN</td>\n",
       "      <td>NaN</td>\n",
       "      <td>NaN</td>\n",
       "      <td>Purdue</td>\n",
       "      <td>1970</td>\n",
       "    </tr>\n",
       "    <tr>\n",
       "      <th>3</th>\n",
       "      <td>3</td>\n",
       "      <td>1</td>\n",
       "      <td>4</td>\n",
       "      <td>BOS</td>\n",
       "      <td>Phil Olsen</td>\n",
       "      <td>DT</td>\n",
       "      <td>22.0</td>\n",
       "      <td>1976.0</td>\n",
       "      <td>0</td>\n",
       "      <td>0</td>\n",
       "      <td>...</td>\n",
       "      <td>NaN</td>\n",
       "      <td>NaN</td>\n",
       "      <td>NaN</td>\n",
       "      <td>NaN</td>\n",
       "      <td>NaN</td>\n",
       "      <td>NaN</td>\n",
       "      <td>NaN</td>\n",
       "      <td>NaN</td>\n",
       "      <td>Utah St.</td>\n",
       "      <td>1970</td>\n",
       "    </tr>\n",
       "    <tr>\n",
       "      <th>4</th>\n",
       "      <td>4</td>\n",
       "      <td>1</td>\n",
       "      <td>5</td>\n",
       "      <td>BUF</td>\n",
       "      <td>Al Cowlings</td>\n",
       "      <td>DE</td>\n",
       "      <td>23.0</td>\n",
       "      <td>1979.0</td>\n",
       "      <td>0</td>\n",
       "      <td>0</td>\n",
       "      <td>...</td>\n",
       "      <td>NaN</td>\n",
       "      <td>NaN</td>\n",
       "      <td>NaN</td>\n",
       "      <td>NaN</td>\n",
       "      <td>NaN</td>\n",
       "      <td>NaN</td>\n",
       "      <td>NaN</td>\n",
       "      <td>NaN</td>\n",
       "      <td>USC</td>\n",
       "      <td>1970</td>\n",
       "    </tr>\n",
       "    <tr>\n",
       "      <th>...</th>\n",
       "      <td>...</td>\n",
       "      <td>...</td>\n",
       "      <td>...</td>\n",
       "      <td>...</td>\n",
       "      <td>...</td>\n",
       "      <td>...</td>\n",
       "      <td>...</td>\n",
       "      <td>...</td>\n",
       "      <td>...</td>\n",
       "      <td>...</td>\n",
       "      <td>...</td>\n",
       "      <td>...</td>\n",
       "      <td>...</td>\n",
       "      <td>...</td>\n",
       "      <td>...</td>\n",
       "      <td>...</td>\n",
       "      <td>...</td>\n",
       "      <td>...</td>\n",
       "      <td>...</td>\n",
       "      <td>...</td>\n",
       "      <td>...</td>\n",
       "    </tr>\n",
       "    <tr>\n",
       "      <th>14491</th>\n",
       "      <td>248</td>\n",
       "      <td>7</td>\n",
       "      <td>249</td>\n",
       "      <td>SFO</td>\n",
       "      <td>Prince Charles Iworah</td>\n",
       "      <td>CB</td>\n",
       "      <td>23.0</td>\n",
       "      <td>2016.0</td>\n",
       "      <td>0</td>\n",
       "      <td>0</td>\n",
       "      <td>...</td>\n",
       "      <td>NaN</td>\n",
       "      <td>NaN</td>\n",
       "      <td>NaN</td>\n",
       "      <td>NaN</td>\n",
       "      <td>NaN</td>\n",
       "      <td>NaN</td>\n",
       "      <td>NaN</td>\n",
       "      <td>NaN</td>\n",
       "      <td>West. Kentucky</td>\n",
       "      <td>2016</td>\n",
       "    </tr>\n",
       "    <tr>\n",
       "      <th>14492</th>\n",
       "      <td>249</td>\n",
       "      <td>7</td>\n",
       "      <td>250</td>\n",
       "      <td>CLE</td>\n",
       "      <td>Scooby Wright</td>\n",
       "      <td>ILB</td>\n",
       "      <td>22.0</td>\n",
       "      <td>2016.0</td>\n",
       "      <td>0</td>\n",
       "      <td>0</td>\n",
       "      <td>...</td>\n",
       "      <td>NaN</td>\n",
       "      <td>NaN</td>\n",
       "      <td>NaN</td>\n",
       "      <td>NaN</td>\n",
       "      <td>NaN</td>\n",
       "      <td>NaN</td>\n",
       "      <td>NaN</td>\n",
       "      <td>NaN</td>\n",
       "      <td>Arizona</td>\n",
       "      <td>2016</td>\n",
       "    </tr>\n",
       "    <tr>\n",
       "      <th>14493</th>\n",
       "      <td>250</td>\n",
       "      <td>7</td>\n",
       "      <td>251</td>\n",
       "      <td>PHI</td>\n",
       "      <td>Joe Walker</td>\n",
       "      <td>ILB</td>\n",
       "      <td>23.0</td>\n",
       "      <td>NaN</td>\n",
       "      <td>0</td>\n",
       "      <td>0</td>\n",
       "      <td>...</td>\n",
       "      <td>NaN</td>\n",
       "      <td>NaN</td>\n",
       "      <td>NaN</td>\n",
       "      <td>NaN</td>\n",
       "      <td>NaN</td>\n",
       "      <td>NaN</td>\n",
       "      <td>NaN</td>\n",
       "      <td>NaN</td>\n",
       "      <td>Oregon</td>\n",
       "      <td>2016</td>\n",
       "    </tr>\n",
       "    <tr>\n",
       "      <th>14494</th>\n",
       "      <td>251</td>\n",
       "      <td>7</td>\n",
       "      <td>252</td>\n",
       "      <td>CAR</td>\n",
       "      <td>Beau Sandland</td>\n",
       "      <td>TE</td>\n",
       "      <td>23.0</td>\n",
       "      <td>NaN</td>\n",
       "      <td>0</td>\n",
       "      <td>0</td>\n",
       "      <td>...</td>\n",
       "      <td>NaN</td>\n",
       "      <td>NaN</td>\n",
       "      <td>NaN</td>\n",
       "      <td>NaN</td>\n",
       "      <td>NaN</td>\n",
       "      <td>NaN</td>\n",
       "      <td>NaN</td>\n",
       "      <td>NaN</td>\n",
       "      <td>Montana St.</td>\n",
       "      <td>2016</td>\n",
       "    </tr>\n",
       "    <tr>\n",
       "      <th>14495</th>\n",
       "      <td>252</td>\n",
       "      <td>7</td>\n",
       "      <td>253</td>\n",
       "      <td>TEN</td>\n",
       "      <td>Kalan Reed</td>\n",
       "      <td>CB</td>\n",
       "      <td>22.0</td>\n",
       "      <td>2016.0</td>\n",
       "      <td>0</td>\n",
       "      <td>0</td>\n",
       "      <td>...</td>\n",
       "      <td>NaN</td>\n",
       "      <td>NaN</td>\n",
       "      <td>NaN</td>\n",
       "      <td>NaN</td>\n",
       "      <td>NaN</td>\n",
       "      <td>1.0</td>\n",
       "      <td>NaN</td>\n",
       "      <td>NaN</td>\n",
       "      <td>Southern Miss</td>\n",
       "      <td>2016</td>\n",
       "    </tr>\n",
       "  </tbody>\n",
       "</table>\n",
       "<p>14496 rows × 30 columns</p>\n",
       "</div>"
      ],
      "text/plain": [
       "       Unnamed: 0  Rnd  Pick   Tm                 Player  Pos   Age      To  \\\n",
       "0               0    1     1  PIT         Terry Bradshaw   QB  22.0  1983.0   \n",
       "1               1    1     2  GNB             Mike McCoy   DT  22.0  1980.0   \n",
       "2               2    1     3  CLE            Mike Phipps   QB  22.0  1981.0   \n",
       "3               3    1     4  BOS             Phil Olsen   DT  22.0  1976.0   \n",
       "4               4    1     5  BUF            Al Cowlings   DE  23.0  1979.0   \n",
       "...           ...  ...   ...  ...                    ...  ...   ...     ...   \n",
       "14491         248    7   249  SFO  Prince Charles Iworah   CB  23.0  2016.0   \n",
       "14492         249    7   250  CLE          Scooby Wright  ILB  22.0  2016.0   \n",
       "14493         250    7   251  PHI             Joe Walker  ILB  23.0     NaN   \n",
       "14494         251    7   252  CAR          Beau Sandland   TE  23.0     NaN   \n",
       "14495         252    7   253  TEN             Kalan Reed   CB  22.0  2016.0   \n",
       "\n",
       "       AP1  PB  ...   Yds.1  TD.1  Rec  Yds.2  TD.2  Tkl  Int.1  Sk  \\\n",
       "0        1   3  ...  2257.0  32.0  0.0    1.0   0.0  NaN    NaN NaN   \n",
       "1        0   0  ...     NaN   NaN  NaN    NaN   NaN  NaN    1.0 NaN   \n",
       "2        0   0  ...  1278.0  13.0  NaN    NaN   NaN  NaN    NaN NaN   \n",
       "3        0   0  ...     NaN   NaN  NaN    NaN   NaN  NaN    NaN NaN   \n",
       "4        0   0  ...     NaN   NaN  NaN    NaN   NaN  NaN    NaN NaN   \n",
       "...    ...  ..  ...     ...   ...  ...    ...   ...  ...    ...  ..   \n",
       "14491    0   0  ...     NaN   NaN  NaN    NaN   NaN  NaN    NaN NaN   \n",
       "14492    0   0  ...     NaN   NaN  NaN    NaN   NaN  NaN    NaN NaN   \n",
       "14493    0   0  ...     NaN   NaN  NaN    NaN   NaN  NaN    NaN NaN   \n",
       "14494    0   0  ...     NaN   NaN  NaN    NaN   NaN  NaN    NaN NaN   \n",
       "14495    0   0  ...     NaN   NaN  NaN    NaN   NaN  1.0    NaN NaN   \n",
       "\n",
       "         College/Univ  Year  \n",
       "0      Louisiana Tech  1970  \n",
       "1          Notre Dame  1970  \n",
       "2              Purdue  1970  \n",
       "3            Utah St.  1970  \n",
       "4                 USC  1970  \n",
       "...               ...   ...  \n",
       "14491  West. Kentucky  2016  \n",
       "14492         Arizona  2016  \n",
       "14493          Oregon  2016  \n",
       "14494     Montana St.  2016  \n",
       "14495   Southern Miss  2016  \n",
       "\n",
       "[14496 rows x 30 columns]"
      ]
     },
     "execution_count": 9,
     "metadata": {},
     "output_type": "execute_result"
    }
   ],
   "source": [
    "data = pd.read_excel('https://query.data.world/s/gtdhdo5terivwg3r4g3smc2rxu4jyr')\n",
    "data"
   ]
  },
  {
   "cell_type": "markdown",
   "id": "ff5a33de",
   "metadata": {},
   "source": [
    "Q: What college has had the most drafted football players overall?"
   ]
  },
  {
   "cell_type": "code",
   "execution_count": 16,
   "id": "394a18a9",
   "metadata": {},
   "outputs": [
    {
     "data": {
      "text/plain": [
       "USC                       304\n",
       "Ohio St.                  275\n",
       "Nebraska                  269\n",
       "Penn St.                  254\n",
       "Notre Dame                252\n",
       "                         ... \n",
       "St. Mary's (CA)             1\n",
       "Willamette                  1\n",
       "William Jewell              1\n",
       "Claremont-Mudd-Scripps      1\n",
       "Texas-San Antonio           1\n",
       "Name: College/Univ, Length: 522, dtype: int64"
      ]
     },
     "execution_count": 16,
     "metadata": {},
     "output_type": "execute_result"
    }
   ],
   "source": [
    "data['College/Univ'].value_counts()"
   ]
  },
  {
   "cell_type": "markdown",
   "id": "f378961f",
   "metadata": {},
   "source": [
    "Q: What year had the most drafted football players?"
   ]
  },
  {
   "cell_type": "code",
   "execution_count": 18,
   "id": "2f24fcd2",
   "metadata": {},
   "outputs": [
    {
     "data": {
      "text/plain": [
       "0    1976\n",
       "Name: Year, dtype: int64"
      ]
     },
     "execution_count": 18,
     "metadata": {},
     "output_type": "execute_result"
    }
   ],
   "source": [
    "data['Year'].mode()"
   ]
  },
  {
   "cell_type": "markdown",
   "id": "f5fd71c7",
   "metadata": {},
   "source": [
    "Q: What position is drafted more?"
   ]
  },
  {
   "cell_type": "code",
   "execution_count": 19,
   "id": "c9d13ce1",
   "metadata": {},
   "outputs": [
    {
     "data": {
      "text/plain": [
       "0    DB\n",
       "Name: Pos, dtype: object"
      ]
     },
     "execution_count": 19,
     "metadata": {},
     "output_type": "execute_result"
    }
   ],
   "source": [
    "data['Pos'].mode()"
   ]
  },
  {
   "cell_type": "markdown",
   "id": "265835e8",
   "metadata": {},
   "source": [
    "Q: What is the average age of drafted players?"
   ]
  },
  {
   "cell_type": "code",
   "execution_count": 25,
   "id": "f4c823f5",
   "metadata": {},
   "outputs": [],
   "source": [
    "age_mean = data['Age'].mean()"
   ]
  },
  {
   "cell_type": "markdown",
   "id": "65a72fcf",
   "metadata": {},
   "source": [
    "Q: What is the max age of drafted players?"
   ]
  },
  {
   "cell_type": "code",
   "execution_count": 26,
   "id": "6a6ab9d9",
   "metadata": {},
   "outputs": [],
   "source": [
    "age_max = data['Age'].max()"
   ]
  },
  {
   "cell_type": "markdown",
   "id": "d3ca3d4a",
   "metadata": {},
   "source": [
    "Q: What is the min age of drafted players?"
   ]
  },
  {
   "cell_type": "code",
   "execution_count": 28,
   "id": "a812caa2",
   "metadata": {},
   "outputs": [],
   "source": [
    "age_min = data['Age'].min()"
   ]
  },
  {
   "cell_type": "markdown",
   "id": "cd1f8ed2",
   "metadata": {},
   "source": [
    "Q: What is the standard deviation of age of drafted players?"
   ]
  },
  {
   "cell_type": "code",
   "execution_count": 29,
   "id": "316bd63d",
   "metadata": {},
   "outputs": [],
   "source": [
    "age_std = data['Age'].std()"
   ]
  },
  {
   "cell_type": "markdown",
   "id": "cf2aa8ca",
   "metadata": {},
   "source": [
    "Q: What is the median age of drafted players?"
   ]
  },
  {
   "cell_type": "code",
   "execution_count": 30,
   "id": "d0aaeb43",
   "metadata": {},
   "outputs": [],
   "source": [
    "age_med = data['Age'].median()"
   ]
  },
  {
   "cell_type": "code",
   "execution_count": 33,
   "id": "86931f2d",
   "metadata": {},
   "outputs": [
    {
     "data": {
      "text/plain": [
       "<matplotlib.legend.Legend at 0x11c692da0>"
      ]
     },
     "execution_count": 33,
     "metadata": {},
     "output_type": "execute_result"
    },
    {
     "data": {
      "image/png": "[encoded data removed]",
      "text/plain": [
       "<Figure size 864x576 with 1 Axes>"
      ]
     },
     "metadata": {
      "needs_background": "light"
     },
     "output_type": "display_data"
    }
   ],
   "source": [
    "plt.figure(figsize=(12, 8))\n",
    "\n",
    "data['Age'].hist(bins=30)\n",
    "\n",
    "plt.axvline(age_mean, color='r', label='mean')\n",
    "plt.axvline(age_med, color='g', label='median')\n",
    "plt.axvline(age_min, color='pink', label='min')\n",
    "plt.axvline(age_max, color='purple', label='max')\n",
    "\n",
    "plt.title('Age of NFL Drafted Players')\n",
    "plt.xlabel('Age')\n",
    "plt.ylabel('Count')\n",
    "\n",
    "plt.legend()"
   ]
  },
  {
   "cell_type": "markdown",
   "id": "54128465",
   "metadata": {},
   "source": [
    "Additional Questions:"
   ]
  },
  {
   "cell_type": "markdown",
   "id": "f04e6364",
   "metadata": {},
   "source": [
    "Q: What is the average length of stay in the NFL?"
   ]
  },
  {
   "cell_type": "markdown",
   "id": "cc899aa2",
   "metadata": {},
   "source": [
    "Q: What position stays in the NFL the longest?"
   ]
  },
  {
   "cell_type": "markdown",
   "id": "32435971",
   "metadata": {},
   "source": [
    "Q: Who had the most yards of any QB in the NFL?"
   ]
  },
  {
   "cell_type": "code",
   "execution_count": null,
   "id": "62986a0b",
   "metadata": {},
   "outputs": [],
   "source": []
  }
 ],
 "metadata": {
  "kernelspec": {
   "display_name": "Python 3 (ipykernel)",
   "language": "python",
   "name": "python3"
  },
  "language_info": {
   "codemirror_mode": {
    "name": "ipython",
    "version": 3
   },
   "file_extension": ".py",
   "mimetype": "text/x-python",
   "name": "python",
   "nbconvert_exporter": "python",
   "pygments_lexer": "ipython3",
   "version": "3.10.1"
  }
 },
 "nbformat": 4,
 "nbformat_minor": 5
}
